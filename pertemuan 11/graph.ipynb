{
 "cells": [
  {
   "cell_type": "code",
   "execution_count": 8,
   "metadata": {},
   "outputs": [],
   "source": [
    "#a------b\n",
    "#|      |\n",
    "#|      |\n",
    "#c------d------e"
   ]
  },
  {
   "cell_type": "code",
   "execution_count": 9,
   "metadata": {},
   "outputs": [
    {
     "name": "stdout",
     "output_type": "stream",
     "text": [
      "{'a': ['b', 'c'], 'b': ['a', 'd'], 'c': ['a', 'd'], 'd': ['e'], 'e': ['d']}\n"
     ]
    }
   ],
   "source": [
    "#create the dictionary with graph elements\n",
    "graph1 = { \"a\" : [\"b\",\"c\"],\n",
    "           \"b\" : [\"a\",\"d\"],\n",
    "           \"c\" : [\"a\",\"d\"],\n",
    "           \"d\" : [\"e\"],\n",
    "           \"e\" : [\"d\"]\n",
    "        }\n",
    "\n",
    "#print the graph\n",
    "print(graph1)"
   ]
  },
  {
   "cell_type": "code",
   "execution_count": 10,
   "metadata": {},
   "outputs": [
    {
     "name": "stdout",
     "output_type": "stream",
     "text": [
      "{'T': ['U', 'W'], 'U': ['T', 'V'], 'V': ['U', 'X'], 'W': ['T', 'X'], 'X': ['W', 'V'], 'Z': ['W'], 'S': ['X']}\n"
     ]
    }
   ],
   "source": [
    "graph2 = { \"T\" : [\"U\", \"W\"],\n",
    "           \"U\" : [\"T\", \"V\"],\n",
    "           \"V\" : [\"U\", \"X\"],\n",
    "           \"W\" : [\"T\", \"X\"],\n",
    "           \"X\" : [\"W\", \"V\"],\n",
    "           \"Z\" : [\"W\"],\n",
    "           \"S\" : [\"X\"]\n",
    "        }\n",
    "print(graph2)"
   ]
  },
  {
   "cell_type": "code",
   "execution_count": 11,
   "metadata": {},
   "outputs": [
    {
     "name": "stdout",
     "output_type": "stream",
     "text": [
      "{'R': ['O', 'L'], 'O': ['R', 'P', 'M'], 'M': ['O', 'N'], 'L': ['R', 'P'], 'P': ['L', 'O', 'N'], 'N': ['P', 'M']}\n"
     ]
    }
   ],
   "source": [
    "graph3 = { \"R\" : [\"O\", \"L\"],\n",
    "           \"O\" : [\"R\", \"P\", \"M\"],\n",
    "           \"M\" : [\"O\", \"N\"],\n",
    "           \"L\" : [\"R\", \"P\"],\n",
    "           \"P\" : [\"L\", \"O\", \"N\"],\n",
    "           \"N\" : [\"P\", \"M\"]}\n",
    "print(graph3)"
   ]
  },
  {
   "cell_type": "code",
   "execution_count": 12,
   "metadata": {},
   "outputs": [
    {
     "name": "stdout",
     "output_type": "stream",
     "text": [
      "['a', 'b', 'c', 'd', 'e']\n"
     ]
    }
   ],
   "source": [
    "class graph:\n",
    "    def __init__(self,gdict=None) :\n",
    "        if gdict is None:\n",
    "            gdict = []\n",
    "        self.gdict = gdict\n",
    "\n",
    "# get the keys of the dictionary\n",
    "    def getVertices(self):\n",
    "        return list(self.gdict.keys())\n",
    "\n",
    "# create the dictionary with graph elements\n",
    "graph_elements = { \"a\" : [\"b\",\"c\"],\n",
    "                   \"b\" : [\"a\", \"d\"],\n",
    "                   \"c\" : [\"a\", \"d\"],\n",
    "                   \"d\" : [\"e\"],\n",
    "                   \"e\" : [\"d\"]\n",
    "                }\n",
    "\n",
    "g = graph(graph_elements)\n",
    "print(g.getVertices())"
   ]
  },
  {
   "cell_type": "code",
   "execution_count": 13,
   "metadata": {},
   "outputs": [
    {
     "name": "stdout",
     "output_type": "stream",
     "text": [
      "['T', 'U', 'V', 'W', 'X', 'Z', 'S']\n"
     ]
    }
   ],
   "source": [
    "g = graph(graph2)\n",
    "print(g.getVertices())"
   ]
  },
  {
   "cell_type": "code",
   "execution_count": 14,
   "metadata": {},
   "outputs": [
    {
     "name": "stdout",
     "output_type": "stream",
     "text": [
      "['R', 'O', 'M', 'L', 'P', 'N']\n"
     ]
    }
   ],
   "source": [
    "g = graph(graph3)\n",
    "print(g.getVertices())"
   ]
  },
  {
   "cell_type": "code",
   "execution_count": 15,
   "metadata": {},
   "outputs": [
    {
     "name": "stdout",
     "output_type": "stream",
     "text": [
      "[{'a', 'b'}, {'c', 'a'}, {'d', 'b'}, {'c', 'd'}, {'d', 'e'}]\n"
     ]
    }
   ],
   "source": [
    "# Menampilkan sudut pada graph\n",
    "class graph:\n",
    "    def __init__(self,gdict=None):\n",
    "        if gdict is None:\n",
    "            gdict = {}\n",
    "        self.gdict = gdict\n",
    "    \n",
    "    def edges(self):\n",
    "        return self.findedges()\n",
    "\n",
    "#find the distinct list of edges\n",
    "    def findedges(self):\n",
    "        edgename = []\n",
    "        for vrtx in self.gdict:\n",
    "            for nxtvrtx in self.gdict[vrtx]:\n",
    "                if {nxtvrtx, vrtx} not in edgename:\n",
    "                    edgename.append({vrtx, nxtvrtx})\n",
    "        return edgename\n",
    "\n",
    "# create the dictionary with graph elements\n",
    "graph_elements = { \"a\" : [\"b\",\"c\"],\n",
    "                   \"b\" : [\"a\", \"d\"],\n",
    "                   \"c\" : [\"a\", \"d\"],\n",
    "                   \"d\" : [\"e\"],\n",
    "                   \"e\" : [\"d\"]\n",
    "                }\n",
    "\n",
    "g = graph(graph_elements)\n",
    "print(g.edges())"
   ]
  },
  {
   "cell_type": "code",
   "execution_count": 16,
   "metadata": {},
   "outputs": [
    {
     "name": "stdout",
     "output_type": "stream",
     "text": [
      "[{'T', 'U'}, {'T', 'W'}, {'V', 'U'}, {'V', 'X'}, {'X', 'W'}, {'Z', 'W'}, {'X', 'S'}]\n"
     ]
    }
   ],
   "source": [
    "g = graph(graph2)\n",
    "print(g.edges())"
   ]
  },
  {
   "cell_type": "code",
   "execution_count": 17,
   "metadata": {},
   "outputs": [
    {
     "name": "stdout",
     "output_type": "stream",
     "text": [
      "[{'O', 'R'}, {'L', 'R'}, {'O', 'P'}, {'O', 'M'}, {'N', 'M'}, {'L', 'P'}, {'N', 'P'}]\n"
     ]
    }
   ],
   "source": [
    "g = graph(graph3)\n",
    "print(g.edges())"
   ]
  },
  {
   "cell_type": "code",
   "execution_count": 18,
   "metadata": {},
   "outputs": [
    {
     "name": "stdout",
     "output_type": "stream",
     "text": [
      "['a', 'b', 'c', 'd', 'e', 'f']\n"
     ]
    }
   ],
   "source": [
    "# tambah vertex/simpul\n",
    "class graph:\n",
    "    def __init__(self,gdict=None) :\n",
    "        if gdict is None:\n",
    "            gdict = {}\n",
    "        self.gdict = gdict\n",
    "\n",
    "    def getVertices(self):\n",
    "        return list(self.gdict.keys())\n",
    "\n",
    "#Add the vertex as a key\n",
    "    def addVertex(self, vrtx):\n",
    "        if vrtx not in self.gdict:\n",
    "            self.gdict[vrtx] = []\n",
    "\n",
    "#create the dictionarry with graph elements\n",
    "graph_elements = { \"a\" : [\"b\",\"c\"],\n",
    "                   \"b\" : [\"a\", \"d\"],\n",
    "                   \"c\" : [\"a\", \"d\"],\n",
    "                   \"d\" : [\"e\"],\n",
    "                   \"e\" : [\"d\"]\n",
    "                }\n",
    "\n",
    "g = graph(graph_elements)\n",
    "g.addVertex(\"f\")\n",
    "print(g.getVertices())"
   ]
  },
  {
   "cell_type": "code",
   "execution_count": 19,
   "metadata": {},
   "outputs": [
    {
     "name": "stdout",
     "output_type": "stream",
     "text": [
      "['T', 'U', 'V', 'W', 'X', 'Z', 'S', 'f']\n"
     ]
    }
   ],
   "source": [
    "#latihan tambah vertex 1\n",
    "g = graph(graph2)\n",
    "g.addVertex(\"f\")\n",
    "print(g.getVertices())"
   ]
  },
  {
   "cell_type": "code",
   "execution_count": 20,
   "metadata": {},
   "outputs": [
    {
     "name": "stdout",
     "output_type": "stream",
     "text": [
      "['R', 'O', 'M', 'L', 'P', 'N', 'f']\n"
     ]
    }
   ],
   "source": [
    "#latihan tambah vertex 2\n",
    "g = graph(graph3)\n",
    "g.addVertex(\"f\")\n",
    "print(g.getVertices())"
   ]
  },
  {
   "cell_type": "code",
   "execution_count": 24,
   "metadata": {},
   "outputs": [
    {
     "name": "stdout",
     "output_type": "stream",
     "text": [
      "[{'a', 'b'}, {'c', 'a'}, {'a', 'e'}, {'d', 'b'}, {'c', 'd'}, {'d', 'e'}]\n"
     ]
    }
   ],
   "source": [
    "# menambah edge/sudut\n",
    "class graph:\n",
    "    def __init__(self,gdict=None) :\n",
    "        if gdict is None:\n",
    "            gdict = {}\n",
    "        self.gdict = gdict\n",
    "\n",
    "    def edges(self):\n",
    "        return self.findedges()\n",
    "\n",
    "# Add the new edge\n",
    "\n",
    "    def AddEdge(self,edge):\n",
    "        edge = set(edge)\n",
    "        (vrtx1,vrtx2) = tuple(edge)\n",
    "        if vrtx1 in self.gdict:\n",
    "            self.gdict[vrtx1].append(vrtx2)\n",
    "        else:\n",
    "            self.gdict[vrtx1] = [vrtx2]\n",
    "\n",
    "# list the edge names\n",
    "    def findedges(self):\n",
    "        edgename = []\n",
    "        for vrtx in self.gdict:\n",
    "            for nxtvrtx in self.gdict[vrtx]:\n",
    "                if {nxtvrtx, vrtx} not in edgename:\n",
    "                    edgename.append({vrtx, nxtvrtx})\n",
    "        return edgename\n",
    "\n",
    "#create the dictionary with graph elements\n",
    "graph_elements = { \"a\" : [\"b\", \"c\"],\n",
    "                   \"b\" : [\"a\", \"d\"],\n",
    "                   \"c\" : [\"a\", \"d\"],\n",
    "                   \"d\" : [\"e\"],\n",
    "                   \"e\" : [\"d\"]\n",
    "                }\n",
    "\n",
    "g = graph(graph_elements)\n",
    "g.AddEdge({'a', 'e'})\n",
    "g.AddEdge({'a', 'c'})\n",
    "print(g.edges())"
   ]
  },
  {
   "cell_type": "code",
   "execution_count": 25,
   "metadata": {},
   "outputs": [
    {
     "name": "stdout",
     "output_type": "stream",
     "text": [
      "[{'T', 'U'}, {'T', 'W'}, {'V', 'U'}, {'V', 'X'}, {'X', 'W'}, {'Z', 'W'}, {'X', 'S'}, {'A', 'E'}, {'A', 'C'}]\n"
     ]
    }
   ],
   "source": [
    "# latihan tambah simpul pada edge 1\n",
    "g = graph(graph2)\n",
    "g.AddEdge({'A', 'E'})\n",
    "g.AddEdge({'A', 'C'})\n",
    "print(g.edges())"
   ]
  },
  {
   "cell_type": "code",
   "execution_count": 26,
   "metadata": {},
   "outputs": [
    {
     "name": "stdout",
     "output_type": "stream",
     "text": [
      "[{'O', 'R'}, {'L', 'R'}, {'O', 'P'}, {'O', 'M'}, {'N', 'M'}, {'L', 'P'}, {'N', 'P'}, {'Q', 'S'}, {'T', 'P'}]\n"
     ]
    }
   ],
   "source": [
    "# latihan tambah simpul pada edge 2\n",
    "g = graph(graph3)\n",
    "g.AddEdge({'S', 'Q'})\n",
    "g.AddEdge({'P', 'T'})\n",
    "print(g.edges())"
   ]
  }
 ],
 "metadata": {
  "kernelspec": {
   "display_name": "Python 3.9.6 64-bit",
   "language": "python",
   "name": "python3"
  },
  "language_info": {
   "codemirror_mode": {
    "name": "ipython",
    "version": 3
   },
   "file_extension": ".py",
   "mimetype": "text/x-python",
   "name": "python",
   "nbconvert_exporter": "python",
   "pygments_lexer": "ipython3",
   "version": "3.9.6"
  },
  "orig_nbformat": 4,
  "vscode": {
   "interpreter": {
    "hash": "4ad20bc6d2da125af60c9c83faa5135a499a8d8551570e686005f20676b0e616"
   }
  }
 },
 "nbformat": 4,
 "nbformat_minor": 2
}
