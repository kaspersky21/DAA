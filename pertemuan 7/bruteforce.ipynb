{
 "cells": [
  {
   "cell_type": "code",
   "execution_count": 9,
   "metadata": {},
   "outputs": [],
   "source": [
    "#sequential search\n",
    "\n",
    "def Sequential_Search(dlist, item):\n",
    "\n",
    "    pos = 0 \n",
    "    found = False\n",
    "\n",
    "    while pos < len(dlist) and not found:\n",
    "        if dlist[pos] == item:\n",
    "            found = True\n",
    "        else:\n",
    "            pos = pos + 1\n",
    "    return found, pos\n",
    "\n"
   ]
  },
  {
   "cell_type": "code",
   "execution_count": 5,
   "metadata": {},
   "outputs": [
    {
     "name": "stdout",
     "output_type": "stream",
     "text": [
      "(True, 3)\n"
     ]
    }
   ],
   "source": [
    "print(Sequential_Search([11,23,58,31,56,77,43,12,65,19],31))"
   ]
  },
  {
   "cell_type": "code",
   "execution_count": 11,
   "metadata": {},
   "outputs": [
    {
     "name": "stdout",
     "output_type": "stream",
     "text": [
      "(True, 6)\n"
     ]
    }
   ],
   "source": [
    "print(Sequential_Search(['a','b','c','d','e','f','g','h'],'g'))"
   ]
  },
  {
   "cell_type": "code",
   "execution_count": 18,
   "metadata": {},
   "outputs": [
    {
     "name": "stdout",
     "output_type": "stream",
     "text": [
      "bilangan =  2\n",
      "pangkat =  2\n",
      "Hasil = 4\n"
     ]
    }
   ],
   "source": [
    "# pangkat\n",
    "\n",
    "bilangan = int(input('Masukkan bilangan: '))\n",
    "pangkat = int(input('Masukkan pangkat : '))\n",
    "\n",
    "def hitung_pangkat(bilangan, pangkat):\n",
    "    if pangkat > 1:\n",
    "        return bilangan * hitung_pangkat(bilangan, pangkat - 1)\n",
    "\n",
    "    return bilangan\n",
    "\n",
    "hasil = hitung_pangkat(bilangan, pangkat)\n",
    "print('bilangan = ',bilangan)\n",
    "print('pangkat = ',pangkat)\n",
    "print(f'Hasil = {hasil}')"
   ]
  },
  {
   "cell_type": "code",
   "execution_count": 20,
   "metadata": {},
   "outputs": [
    {
     "name": "stdout",
     "output_type": "stream",
     "text": [
      "nilai n :  4\n",
      "4! = 24\n"
     ]
    }
   ],
   "source": [
    "# faktorial\n",
    "\n",
    "n = int(input('Masukkan nilai n : '))\n",
    "\n",
    "def hitung_faktorial (n):\n",
    "    if n > 2:\n",
    "        return n * hitung_faktorial(n - 1)\n",
    "\n",
    "    return 2\n",
    "faktorial = hitung_faktorial(n)\n",
    "print(\"nilai n : \", n)\n",
    "print(f'{n}! = {faktorial}')"
   ]
  },
  {
   "cell_type": "code",
   "execution_count": 24,
   "metadata": {},
   "outputs": [
    {
     "name": "stdout",
     "output_type": "stream",
     "text": [
      "4\n"
     ]
    }
   ],
   "source": [
    "#string matching\n",
    "\n",
    "def string_match(string, sub_str):\n",
    "    # brute force string matching\n",
    "    for i in range(len(string)-len(sub_str)+1):\n",
    "        index = i #index point to the 1 three characters to be compared\n",
    "        for j in range(len(sub_str)):\n",
    "            if string[index] == sub_str[j]:\n",
    "                index += 1\n",
    "            else:\n",
    "                break\n",
    "            if index-i == len(sub_str):\n",
    "                return i\n",
    "    return -1\n",
    "\n",
    "if __name__ == \"__main__\":\n",
    "    print(string_match(\"adbcbdc\", \"bdc\"))"
   ]
  },
  {
   "cell_type": "code",
   "execution_count": 25,
   "metadata": {},
   "outputs": [
    {
     "name": "stdout",
     "output_type": "stream",
     "text": [
      "4\n"
     ]
    }
   ],
   "source": [
    "print(string_match(\"123456789\", \"56\"))"
   ]
  },
  {
   "cell_type": "code",
   "execution_count": 31,
   "metadata": {},
   "outputs": [],
   "source": [
    "#algoritma greedy Traveling Salesman Problem\n",
    "\n",
    "import random\n",
    "from itertools import permutations\n",
    "alltours = permutations\n",
    "\n",
    "def distance_tour(aTour):\n",
    "    return sum(distance_points(aTour[i -1], aTour[i])\n",
    "        for i in range(len(aTour)))\n",
    "\n",
    "aCity = complex\n",
    "\n",
    "def distance_points(first, second):\n",
    "    return abs(first - second)\n",
    "\n",
    "def generate_cities(number_of_cities):\n",
    "    seed=111;width=500;height=300\n",
    "    random.seed((number_of_cities, seed))\n",
    "    return frozenset(aCity(random.randint(1, width), random.randint(1,height))\n",
    "        for c in range (number_of_cities))"
   ]
  },
  {
   "cell_type": "code",
   "execution_count": 32,
   "metadata": {},
   "outputs": [],
   "source": [
    "%matplotlib inline\n",
    "import matplotlib.pyplot as plt\n",
    "\n",
    "def visualize_tour(tour, style='bo-'):\n",
    "    if len(tour) > 1000: plt.figure(figsize=(15, 10))\n",
    "    start = tour[0:1]\n",
    "    visualize_segment(tour + start, style)\n",
    "    visualize_segment(start, 'rD')\n",
    "def visualize_segment(segment, style='bo-'):\n",
    "    plt.plot([X(c) for c in segment], [Y(c) for c in segment], style, clip_on=False)\n",
    "    plt.axis('scaled')\n",
    "    plt.axis('off')\n",
    "\n",
    "def X(city): \"X axis\"; return city.real\n",
    "def Y(city): \"Y axis\"; return city.imag"
   ]
  },
  {
   "cell_type": "code",
   "execution_count": 33,
   "metadata": {},
   "outputs": [],
   "source": [
    "from time import process_time\n",
    "from collections import Counter\n",
    "def tsp(algorithm, cities):\n",
    "    t0 = process_time()\n",
    "    tour = algorithm(cities)\n",
    "    t1 = process_time()\n",
    "    assert Counter(tour) == Counter(cities)\n",
    "    visualize_tour(tour)\n",
    "    print(\"{}:{} cities => tour length {:.0f}(in {:.3f} sec)\",format(name(algorithm), len(tour), distance_tour(tour),t1-t0))\n",
    "\n",
    "def name(algorithm): return algorithm.__name__.replace('_tsp','')"
   ]
  },
  {
   "cell_type": "code",
   "execution_count": 34,
   "metadata": {},
   "outputs": [],
   "source": [
    "def brute_force(cities):\n",
    "    \"Generate all possible tours of the cities and choose the shortest tour.\"\n",
    "    return shortest_tour(alltours(cities))\n",
    "def shortest_tour(tours): return min(tours, key=distance_tour)"
   ]
  },
  {
   "cell_type": "code",
   "execution_count": 37,
   "metadata": {},
   "outputs": [
    {
     "name": "stderr",
     "output_type": "stream",
     "text": [
      "C:\\Users\\fanza\\AppData\\Local\\Temp\\ipykernel_12868\\3731826220.py:18: DeprecationWarning: Seeding based on hashing is deprecated\n",
      "since Python 3.9 and will be removed in a subsequent version. The only \n",
      "supported seed types are: None, int, float, str, bytes, and bytearray.\n",
      "  random.seed((number_of_cities, seed))\n"
     ]
    },
    {
     "ename": "KeyboardInterrupt",
     "evalue": "",
     "output_type": "error",
     "traceback": [
      "\u001b[1;31m---------------------------------------------------------------------------\u001b[0m",
      "\u001b[1;31mKeyboardInterrupt\u001b[0m                         Traceback (most recent call last)",
      "Cell \u001b[1;32mIn [37], line 1\u001b[0m\n\u001b[1;32m----> 1\u001b[0m tsp(brute_force, generate_cities(\u001b[39m20\u001b[39m))\n",
      "Cell \u001b[1;32mIn [33], line 5\u001b[0m, in \u001b[0;36mtsp\u001b[1;34m(algorithm, cities)\u001b[0m\n\u001b[0;32m      3\u001b[0m \u001b[39mdef\u001b[39;00m \u001b[39mtsp\u001b[39m(algorithm, cities):\n\u001b[0;32m      4\u001b[0m     t0 \u001b[39m=\u001b[39m process_time()\n\u001b[1;32m----> 5\u001b[0m     tour \u001b[39m=\u001b[39m algorithm(cities)\n\u001b[0;32m      6\u001b[0m     t1 \u001b[39m=\u001b[39m process_time()\n\u001b[0;32m      7\u001b[0m     \u001b[39massert\u001b[39;00m Counter(tour) \u001b[39m==\u001b[39m Counter(cities)\n",
      "Cell \u001b[1;32mIn [34], line 3\u001b[0m, in \u001b[0;36mbrute_force\u001b[1;34m(cities)\u001b[0m\n\u001b[0;32m      1\u001b[0m \u001b[39mdef\u001b[39;00m \u001b[39mbrute_force\u001b[39m(cities):\n\u001b[0;32m      2\u001b[0m     \u001b[39m\"\u001b[39m\u001b[39mGenerate all possible tours of the cities and choose the shortest tour.\u001b[39m\u001b[39m\"\u001b[39m\n\u001b[1;32m----> 3\u001b[0m     \u001b[39mreturn\u001b[39;00m shortest_tour(alltours(cities))\n",
      "Cell \u001b[1;32mIn [34], line 4\u001b[0m, in \u001b[0;36mshortest_tour\u001b[1;34m(tours)\u001b[0m\n\u001b[1;32m----> 4\u001b[0m \u001b[39mdef\u001b[39;00m \u001b[39mshortest_tour\u001b[39m(tours): \u001b[39mreturn\u001b[39;00m \u001b[39mmin\u001b[39;49m(tours, key\u001b[39m=\u001b[39;49mdistance_tour)\n",
      "Cell \u001b[1;32mIn [31], line 8\u001b[0m, in \u001b[0;36mdistance_tour\u001b[1;34m(aTour)\u001b[0m\n\u001b[0;32m      7\u001b[0m \u001b[39mdef\u001b[39;00m \u001b[39mdistance_tour\u001b[39m(aTour):\n\u001b[1;32m----> 8\u001b[0m     \u001b[39mreturn\u001b[39;00m \u001b[39msum\u001b[39;49m(distance_points(aTour[i \u001b[39m-\u001b[39;49m\u001b[39m1\u001b[39;49m], aTour[i])\n\u001b[0;32m      9\u001b[0m         \u001b[39mfor\u001b[39;49;00m i \u001b[39min\u001b[39;49;00m \u001b[39mrange\u001b[39;49m(\u001b[39mlen\u001b[39;49m(aTour)))\n",
      "Cell \u001b[1;32mIn [31], line 8\u001b[0m, in \u001b[0;36m<genexpr>\u001b[1;34m(.0)\u001b[0m\n\u001b[0;32m      7\u001b[0m \u001b[39mdef\u001b[39;00m \u001b[39mdistance_tour\u001b[39m(aTour):\n\u001b[1;32m----> 8\u001b[0m     \u001b[39mreturn\u001b[39;00m \u001b[39msum\u001b[39m(distance_points(aTour[i \u001b[39m-\u001b[39;49m\u001b[39m1\u001b[39;49m], aTour[i])\n\u001b[0;32m      9\u001b[0m         \u001b[39mfor\u001b[39;00m i \u001b[39min\u001b[39;00m \u001b[39mrange\u001b[39m(\u001b[39mlen\u001b[39m(aTour)))\n",
      "\u001b[1;31mKeyboardInterrupt\u001b[0m: "
     ]
    }
   ],
   "source": [
    "tsp(brute_force, generate_cities(20))"
   ]
  }
 ],
 "metadata": {
  "kernelspec": {
   "display_name": "Python 3.9.6 64-bit",
   "language": "python",
   "name": "python3"
  },
  "language_info": {
   "codemirror_mode": {
    "name": "ipython",
    "version": 3
   },
   "file_extension": ".py",
   "mimetype": "text/x-python",
   "name": "python",
   "nbconvert_exporter": "python",
   "pygments_lexer": "ipython3",
   "version": "3.9.6"
  },
  "orig_nbformat": 4,
  "vscode": {
   "interpreter": {
    "hash": "4ad20bc6d2da125af60c9c83faa5135a499a8d8551570e686005f20676b0e616"
   }
  }
 },
 "nbformat": 4,
 "nbformat_minor": 2
}
