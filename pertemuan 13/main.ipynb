{
 "cells": [
  {
   "cell_type": "code",
   "execution_count": 5,
   "metadata": {},
   "outputs": [],
   "source": [
    "def bfs(graph, start):\n",
    "    visited = []\n",
    "    queue = [start]\n",
    "\n",
    "    while queue:\n",
    "        node = queue.pop(0)\n",
    "        if node not in visited:\n",
    "            visited.append(node)\n",
    "            neighbours = graph[node]\n",
    "            for neighbour in neighbours:\n",
    "                queue.append(neighbour)\n",
    "    return visited            "
   ]
  },
  {
   "cell_type": "code",
   "execution_count": 6,
   "metadata": {},
   "outputs": [],
   "source": [
    "graph = { 'Amin' : {'Wasim', 'Nick', 'Mike'},\n",
    "          'Wasim' : {'Imran', 'Amin'},\n",
    "          'Imran' : {'Wasim', 'Faras'},\n",
    "          'Faras' : {'Imran'},\n",
    "          'Mike' : {'Amin'},\n",
    "          'Nick' : {'Amin'}\n",
    "        }"
   ]
  },
  {
   "cell_type": "code",
   "execution_count": 8,
   "metadata": {},
   "outputs": [
    {
     "data": {
      "text/plain": [
       "['Amin', 'Mike', 'Wasim', 'Nick', 'Imran', 'Faras']"
      ]
     },
     "execution_count": 8,
     "metadata": {},
     "output_type": "execute_result"
    }
   ],
   "source": [
    "bfs(graph,'Amin')"
   ]
  },
  {
   "cell_type": "code",
   "execution_count": 9,
   "metadata": {},
   "outputs": [
    {
     "data": {
      "text/plain": [
       "['Wasim', 'Imran', 'Amin', 'Faras', 'Mike', 'Nick']"
      ]
     },
     "execution_count": 9,
     "metadata": {},
     "output_type": "execute_result"
    }
   ],
   "source": [
    "bfs(graph,'Wasim')"
   ]
  },
  {
   "cell_type": "code",
   "execution_count": 10,
   "metadata": {},
   "outputs": [
    {
     "data": {
      "text/plain": [
       "['Imran', 'Wasim', 'Faras', 'Amin', 'Mike', 'Nick']"
      ]
     },
     "execution_count": 10,
     "metadata": {},
     "output_type": "execute_result"
    }
   ],
   "source": [
    "bfs(graph,'Imran')"
   ]
  },
  {
   "cell_type": "code",
   "execution_count": 11,
   "metadata": {},
   "outputs": [
    {
     "data": {
      "text/plain": [
       "['Faras', 'Imran', 'Wasim', 'Amin', 'Mike', 'Nick']"
      ]
     },
     "execution_count": 11,
     "metadata": {},
     "output_type": "execute_result"
    }
   ],
   "source": [
    "bfs(graph,'Faras')"
   ]
  },
  {
   "cell_type": "code",
   "execution_count": 32,
   "metadata": {},
   "outputs": [],
   "source": [
    "graph = { 'Rektor' : {'Warek 1', 'Warek 2'},\n",
    "          'Warek 1' : {'Rektor'},\n",
    "          'Warek 2' : {'Rektor', 'Kaprodi 1', 'Kaprodi 2', 'Kaprodi 3'},\n",
    "          'Kaprodi 1' : {'Warek 2', 'Dosen A', 'Dosen B', 'Dosen C'},\n",
    "          'Kaprodi 2' : {'Warek 2', 'Dosen D', 'Dosen E'},\n",
    "          'Kaprodi 3' : {'Warek 2', 'Dosen F', 'Dosen G'},\n",
    "          'Dosen A' : {'Kaprodi 1'},\n",
    "          'Dosen B' : {'Kaprodi 1'},\n",
    "          'Dosen C' : {'Kaprodi 1'},\n",
    "          'Dosen D' : {'Kaprodi 2'},\n",
    "          'Dosen E' : {'Kaprodi 2'},\n",
    "          'Dosen F' : {'Kaprodi 3'},\n",
    "          'Dosen G' : {'Kaprodi 3'},\n",
    "        }"
   ]
  },
  {
   "cell_type": "code",
   "execution_count": 33,
   "metadata": {},
   "outputs": [
    {
     "data": {
      "text/plain": [
       "['Dosen A',\n",
       " 'Kaprodi 1',\n",
       " 'Dosen B',\n",
       " 'Dosen C',\n",
       " 'Warek 2',\n",
       " 'Kaprodi 3',\n",
       " 'Rektor',\n",
       " 'Kaprodi 2',\n",
       " 'Dosen F',\n",
       " 'Dosen G',\n",
       " 'Warek 1',\n",
       " 'Dosen D',\n",
       " 'Dosen E']"
      ]
     },
     "execution_count": 33,
     "metadata": {},
     "output_type": "execute_result"
    }
   ],
   "source": [
    "bfs(graph,'Dosen A')"
   ]
  },
  {
   "cell_type": "code",
   "execution_count": 34,
   "metadata": {},
   "outputs": [
    {
     "data": {
      "text/plain": [
       "['Warek 1',\n",
       " 'Rektor',\n",
       " 'Warek 2',\n",
       " 'Kaprodi 3',\n",
       " 'Kaprodi 2',\n",
       " 'Kaprodi 1',\n",
       " 'Dosen F',\n",
       " 'Dosen G',\n",
       " 'Dosen D',\n",
       " 'Dosen E',\n",
       " 'Dosen B',\n",
       " 'Dosen C',\n",
       " 'Dosen A']"
      ]
     },
     "execution_count": 34,
     "metadata": {},
     "output_type": "execute_result"
    }
   ],
   "source": [
    "bfs(graph,'Warek 1')"
   ]
  },
  {
   "cell_type": "markdown",
   "metadata": {},
   "source": [
    "IMPLEMENTASI ALGORITMA DEPTH-FIRST SEARCH"
   ]
  },
  {
   "cell_type": "code",
   "execution_count": 37,
   "metadata": {},
   "outputs": [],
   "source": [
    "def dfs(graph, start, visited=None):\n",
    "    if visited is None:\n",
    "        visited = set()\n",
    "    visited.add(start)\n",
    "    print(start)\n",
    "    for next in graph[start] - visited:\n",
    "        dfs(graph, next, visited)\n",
    "    return visited            "
   ]
  },
  {
   "cell_type": "code",
   "execution_count": 40,
   "metadata": {},
   "outputs": [],
   "source": [
    "graph = { 'Amin' : {'Wasim', 'Nick', 'Mike'},\n",
    "          'Wasim' : {'Imran', 'Amin'},\n",
    "          'Imran' : {'Wasim', 'Faras'},\n",
    "          'Faras' : {'Imran'},\n",
    "          'Nick' : {'Amin'},\n",
    "          'Mike' : {'Amin'},  \n",
    "        }"
   ]
  },
  {
   "cell_type": "code",
   "execution_count": 41,
   "metadata": {},
   "outputs": [
    {
     "name": "stdout",
     "output_type": "stream",
     "text": [
      "Amin\n",
      "Mike\n",
      "Wasim\n",
      "Imran\n",
      "Faras\n",
      "Nick\n"
     ]
    },
    {
     "data": {
      "text/plain": [
       "{'Amin', 'Faras', 'Imran', 'Mike', 'Nick', 'Wasim'}"
      ]
     },
     "execution_count": 41,
     "metadata": {},
     "output_type": "execute_result"
    }
   ],
   "source": [
    "dfs(graph,'Amin')"
   ]
  },
  {
   "cell_type": "code",
   "execution_count": 29,
   "metadata": {},
   "outputs": [
    {
     "name": "stdout",
     "output_type": "stream",
     "text": [
      "Wasim\n",
      "Imran\n",
      "Faras\n",
      "Amin\n",
      "Mike\n",
      "Nick\n"
     ]
    },
    {
     "data": {
      "text/plain": [
       "{'Amin', 'Faras', 'Imran', 'Mike', 'Nick', 'Wasim'}"
      ]
     },
     "execution_count": 29,
     "metadata": {},
     "output_type": "execute_result"
    }
   ],
   "source": [
    "dfs(graph,'Wasim')"
   ]
  },
  {
   "cell_type": "code",
   "execution_count": 42,
   "metadata": {},
   "outputs": [
    {
     "name": "stdout",
     "output_type": "stream",
     "text": [
      "Nick\n",
      "Amin\n",
      "Mike\n",
      "Wasim\n",
      "Imran\n",
      "Faras\n"
     ]
    },
    {
     "data": {
      "text/plain": [
       "{'Amin', 'Faras', 'Imran', 'Mike', 'Nick', 'Wasim'}"
      ]
     },
     "execution_count": 42,
     "metadata": {},
     "output_type": "execute_result"
    }
   ],
   "source": [
    "dfs(graph,'Nick')"
   ]
  },
  {
   "cell_type": "code",
   "execution_count": 35,
   "metadata": {},
   "outputs": [],
   "source": [
    "graph = { 'Rektor' : {'Warek 1', 'Warek 2'},\n",
    "          'Warek 1' : {'Rektor'},\n",
    "          'Warek 2' : {'Rektor', 'Kaprodi 1', 'Kaprodi 2', 'Kaprodi 3'},\n",
    "          'Kaprodi 1' : {'Warek 2', 'Dosen A', 'Dosen B', 'Dosen C'},\n",
    "          'Kaprodi 2' : {'Warek 2', 'Dosen D', 'Dosen E'},\n",
    "          'Kaprodi 3' : {'Warek 2', 'Dosen F', 'Dosen G'},\n",
    "          'Dosen A' : {'Kaprodi 1'},\n",
    "          'Dosen B' : {'Kaprodi 1'},\n",
    "          'Dosen C' : {'Kaprodi 1'},\n",
    "          'Dosen D' : {'Kaprodi 2'},\n",
    "          'Dosen E' : {'Kaprodi 2'},\n",
    "          'Dosen F' : {'Kaprodi 3'},\n",
    "          'Dosen G' : {'Kaprodi 3'},\n",
    "        }"
   ]
  },
  {
   "cell_type": "code",
   "execution_count": 36,
   "metadata": {},
   "outputs": [
    {
     "name": "stdout",
     "output_type": "stream",
     "text": [
      "Warek 1\n",
      "Rektor\n",
      "Warek 2\n",
      "Kaprodi 3\n",
      "Dosen F\n",
      "Dosen G\n",
      "Kaprodi 2\n",
      "Dosen D\n",
      "Dosen E\n",
      "Kaprodi 1\n",
      "Dosen B\n",
      "Dosen C\n",
      "Dosen A\n"
     ]
    },
    {
     "data": {
      "text/plain": [
       "{'Dosen A',\n",
       " 'Dosen B',\n",
       " 'Dosen C',\n",
       " 'Dosen D',\n",
       " 'Dosen E',\n",
       " 'Dosen F',\n",
       " 'Dosen G',\n",
       " 'Kaprodi 1',\n",
       " 'Kaprodi 2',\n",
       " 'Kaprodi 3',\n",
       " 'Rektor',\n",
       " 'Warek 1',\n",
       " 'Warek 2'}"
      ]
     },
     "execution_count": 36,
     "metadata": {},
     "output_type": "execute_result"
    }
   ],
   "source": [
    "dfs(graph,'Warek 1')"
   ]
  }
 ],
 "metadata": {
  "kernelspec": {
   "display_name": "Python 3.9.6 64-bit",
   "language": "python",
   "name": "python3"
  },
  "language_info": {
   "codemirror_mode": {
    "name": "ipython",
    "version": 3
   },
   "file_extension": ".py",
   "mimetype": "text/x-python",
   "name": "python",
   "nbconvert_exporter": "python",
   "pygments_lexer": "ipython3",
   "version": "3.9.6"
  },
  "orig_nbformat": 4,
  "vscode": {
   "interpreter": {
    "hash": "4ad20bc6d2da125af60c9c83faa5135a499a8d8551570e686005f20676b0e616"
   }
  }
 },
 "nbformat": 4,
 "nbformat_minor": 2
}
